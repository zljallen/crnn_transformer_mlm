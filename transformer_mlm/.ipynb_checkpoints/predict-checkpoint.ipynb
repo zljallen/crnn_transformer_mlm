{
 "cells": [
  {
   "cell_type": "code",
   "execution_count": 1,
   "id": "2acb318f-883e-4280-8d7c-77bd17ed61e2",
   "metadata": {},
   "outputs": [],
   "source": [
    "import numpy as np\n",
    "import sys\n",
    "import os,torch,math\n",
    "from utils import *\n",
    "from DL_ClassifierModel import *"
   ]
  },
  {
   "cell_type": "code",
   "execution_count": null,
   "id": "4a28c863-d59d-4d22-a919-240db98f4b03",
   "metadata": {},
   "outputs": [],
   "source": [
    "#第一种方法：读取实际数据\n",
    "# dataClass = DataClass_Batch('../DataSet/', 'Data/train.txt', 'Data/test.txt', 'Data/vocabulary_agnostic.txt', 'Data/vocabulary_semantic.txt', encoding='semantic', hs=128, dropBLANK=True)\n",
    "\n",
    "dataClass = DataClass_Batch('../MiniData/', 'Data/train.txt', 'Data/test.txt', 'Data/vocabulary_agnostic.txt', 'Data/vocabulary_semantic.txt', encoding='semantic', hs=128, dropBLANK=True)\n"
   ]
  },
  {
   "cell_type": "code",
   "execution_count": null,
   "id": "abcda6a9-ef8b-4fd1-b993-5cf313e7502d",
   "metadata": {},
   "outputs": [],
   "source": [
    "print(\"Read Data End......\")"
   ]
  },
  {
   "cell_type": "code",
   "execution_count": null,
   "id": "f203056b-821b-43c8-88d1-329618a18e55",
   "metadata": {},
   "outputs": [],
   "source": [
    "#Trans2Trans模型\n",
    "model = Trans2trans(classNum=len(dataClass.label), seqMaxLen=dataClass.maxItems*4+1+dataClass.maxItems+1,\n",
    "                    tknDropout=0.1, embDropout=0.0, hdnDropout=0.1, fcDropout=0.0,\n",
    "                    imgHeight=128, contextSizeList=[1,5,25,49], feaSize=1024, rnnLayerNum=2,\n",
    "                    transNum=4, dk=48, multiNum=8, usePos=True, usePreLN=True,\n",
    "                    maxItems=dataClass.maxItems, device=torch.device('cuda'))\n"
   ]
  },
  {
   "cell_type": "code",
   "execution_count": null,
   "id": "089d65e7-76ef-4ece-9d1d-daa8db595091",
   "metadata": {},
   "outputs": [],
   "source": [
    "#加载已训练好的模型\n",
    "model.load('TrainModel_xxx.pkl', map_location=\"cuda\")\n",
    "\n",
    "model.to_eval_mode()\n",
    "\n",
    "print(\"Model Load End......\")"
   ]
  },
  {
   "cell_type": "code",
   "execution_count": null,
   "id": "0caffad8-db61-4a5b-be46-5c41f0a41626",
   "metadata": {},
   "outputs": [],
   "source": [
    "# 每次取一批数据\n",
    "def batch_image_predict(batchImgArr):\n",
    "    bs = len(batchImgArr)\n",
    "    imgArr = torch.tensor(batchImgArr-0.5, dtype=torch.float32, device=model.device)\n",
    "    imgLab = torch.cat([torch.tensor([[2]]*bs,device=model.device),torch.zeros((bs,model.maxItems+1), dtype=torch.long, device=model.device)], dim=1)\n",
    "    \n",
    "    cnt = 1\n",
    "    imgArr = imgArr.transpose(1,2)\n",
    "    x = torch.cat(model.seqCNN(imgArr), dim=-1)\n",
    "    x_pool = F.adaptive_max_pool1d(x.transpose(1,2), model.maxItems*4).transpose(1,2)\n",
    "    while True:\n",
    "        \n",
    "        y = model.symEmbedding(imgLab)\n",
    "        # x_pool: 1 × seqLen × feaSize\n",
    "        B,L,C = x_pool.shape\n",
    "        x_rnn, hn = model.eSeqRNN(torch.cat([x_pool,y[:,:1]], dim=1)) # => batchSize × seqLen × hiddenSize*2\n",
    "        eos = x_rnn[:,-1:]\n",
    "        x_rnn = x_rnn[:,:-1]\n",
    "        x = x_rnn + x_pool\n",
    "        x = torch.cat([x, eos], dim=1)\n",
    "        if type(hn)==tuple:\n",
    "            hn,cn = hn\n",
    "            hn = hn.view(model.rnnLayerNum, 2, B, C//2)\n",
    "            hn = torch.cat([hn[:,0],hn[:,1]], dim=2) # => numLayers × batchSize × hiddenSize*2\n",
    "            cn = hn.view(model.rnnLayerNum, 2, B, C//2)\n",
    "            cn = torch.cat([cn[:,0],cn[:,1]], dim=2) # => numLayers × batchSize × hiddenSize*2\n",
    "            hn = (hn,cn)\n",
    "        else:\n",
    "            hn = hn.view(model.rnnLayerNum, 2, B, C//2)\n",
    "            hn = torch.cat([hn[:,0],hn[:,1]], dim=2) # => numLayers × batchSize × hiddenSize*2x = torch.cat([x, eos], dim=1)\n",
    "        y, _ = model.dSeqRNN(y[:,1:], h0=hn) # => batchSize × seqLen × hiddenSize*2\n",
    "\n",
    "        x = torch.cat([x,y], dim=1) # => batchSize × (seqLen+1+maxItems+1) × feaSize\n",
    "        if torch.cuda.device_count() > 1:\n",
    "            x,_ = nn.parallel.data_parallel(model.transformer,x)\n",
    "        else:\n",
    "            x,_ = model.transformer(x) # => batchSize × (seqLen+1+maxItems+1) × feaSize\n",
    "            \n",
    "        y = x[:,-model.maxItems-2:-1]\n",
    "\n",
    "        y = model.fcLinear(F.relu(y)) # => 1 × (maxItems+1) × classNum\n",
    "        \n",
    "        y = torch.cat([torch.tensor([[2]]*bs, device=model.device),y.argmax(dim=-1)], dim=1) # => 1 × (maxItems+1)\n",
    "        imgLab = torch.tensor(y, dtype=torch.long, device=model.device)\n",
    "\n",
    "        if cnt>model.maxItems or y[0,cnt]==1:\n",
    "            break\n",
    "        cnt += 1 \n",
    "    yp = imgLab.tolist()\n",
    "    return yp\n",
    "\n",
    "# 在实际测试集上取一批图像得到预测标签结果\n",
    "testBatch = 64\n",
    "testIdList = dataClass.testIdList\n",
    "ypreList = []\n",
    "\n",
    "for i in range((len(testIdList)+testBatch-1)//testBatch):\n",
    " \n",
    "    imgArr = dataClass.imgArr[testIdList[i*testBatch:(i+1)*testBatch]]\n",
    "    maxW = -1\n",
    "    for img in imgArr:\n",
    "        if len(img[0]) > maxW:\n",
    "            maxW = len(img[0])\n",
    "    imgs = []\n",
    "    for img in imgArr:\n",
    "        imgs.append( np.hstack([np.vstack(img),np.zeros((len(img),maxW-len(img[0])), dtype='bool')]).astype('bool') )\n",
    "    imgs = np.array(imgs, dtype='bool')\n",
    "    yp = batch_image_predict(imgs)\n",
    "    for y in yp:\n",
    "        ypreList.append( y[:y.index(1)] if 1 in y else y )\n",
    "# ypreList"
   ]
  },
  {
   "cell_type": "code",
   "execution_count": null,
   "id": "97903686-1c06-4b84-b610-fed9ea94bad5",
   "metadata": {},
   "outputs": [],
   "source": [
    "# 真实测试集标签\n",
    "yList = []\n",
    "for i in dataClass.testIdList:\n",
    "    y = dataClass.labArr[i].tolist()\n",
    "    yList.append(y[:y.index(1)])\n",
    "# yList"
   ]
  },
  {
   "cell_type": "code",
   "execution_count": null,
   "id": "2fc32222-1534-43bf-a528-bfb525a6adcc",
   "metadata": {},
   "outputs": [],
   "source": [
    "# 计算编辑距离\n",
    "def levenshtein(a,b):\n",
    "    \"Computes the Levenshtein distance between a and b.\"\n",
    "    n, m = len(a), len(b)\n",
    "    if n > m:\n",
    "        a,b = b,a\n",
    "        n,m = m,n\n",
    "    current = range(n+1)\n",
    "    for i in range(1,m+1):\n",
    "        previous, current = current, [i]+[0]*n\n",
    "        for j in range(1,n+1):\n",
    "            add, delete = previous[j]+1, current[j-1]+1\n",
    "            change = previous[j-1]\n",
    "            if a[j-1] != b[i-1]:\n",
    "                change = change + 1\n",
    "            current[j] = min(add, delete, change)\n",
    "    return current[n]\n",
    "\n",
    "def edit_distance(a,b):\n",
    "    return levenshtein(a,b)\n",
    "\n",
    "seqAcc = 0\n",
    "seqNum = 0\n",
    "editDistance = 0\n",
    "symbolNum = 0\n",
    "for yp,yt in zip(ypreList, yList):\n",
    "    yp_l,yt_l = len(ypreList),len(yList)\n",
    "    yp_loc,yt_loc = yp.index(1) if 1 in yp else yp_l, yt.index(1) if 1 in yt else yt_l\n",
    "    yp,yt = yp[:yp_loc], yt[:yt_loc]\n",
    "    if len(yp) == len(yt):\n",
    "        if yp == yt:\n",
    "            seqAcc += 1\n",
    "    edit_dist = edit_distance(yp, yt)\n",
    "    editDistance += edit_dist\n",
    "    symbolNum += (len(yt)-1)\n",
    "    seqNum += 1"
   ]
  },
  {
   "cell_type": "code",
   "execution_count": null,
   "id": "14c18999-972a-4ff5-9f7c-24c242eb37bb",
   "metadata": {},
   "outputs": [],
   "source": [
    "print(seqNum, editDistance, symbolNum)\n",
    "print('seqError/seqNum = %.5lf    '%(1-seqAcc/seqNum) )\n",
    "print('editDistance/seqNum = %.5lf    '%(editDistance/seqNum) )\n",
    "print('editDistance/symbolNum = %.5lf    '%(editDistance/symbolNum) )"
   ]
  }
 ],
 "metadata": {
  "kernelspec": {
   "display_name": "Python 3",
   "language": "python",
   "name": "python3"
  },
  "language_info": {
   "codemirror_mode": {
    "name": "ipython",
    "version": 3
   },
   "file_extension": ".py",
   "mimetype": "text/x-python",
   "name": "python",
   "nbconvert_exporter": "python",
   "pygments_lexer": "ipython3",
   "version": "3.7.7"
  }
 },
 "nbformat": 4,
 "nbformat_minor": 5
}
